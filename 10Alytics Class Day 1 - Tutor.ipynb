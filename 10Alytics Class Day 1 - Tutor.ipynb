{
 "cells": [
  {
   "cell_type": "markdown",
   "id": "03b4a674",
   "metadata": {},
   "source": [
    "# Session 1\n",
    "- Data Science and Machine Learning"
   ]
  },
  {
   "cell_type": "markdown",
   "id": "4dcc27eb",
   "metadata": {},
   "source": [
    "### Introduction to Python\n",
    "\n",
    "Python is a computer programming language often used to build  **websites and software, automate tasks, and conduct data analysis.**"
   ]
  },
  {
   "cell_type": "code",
   "execution_count": null,
   "id": "b7270451",
   "metadata": {},
   "outputs": [],
   "source": [
    "\n",
    "\n",
    "# commenting\n",
    "#\n",
    "\"\"\"\"\"\"\n",
    "\n",
    "# inbuilt fuctions like print, help, dir, len, sum"
   ]
  },
  {
   "cell_type": "code",
   "execution_count": 1,
   "id": "002966f4",
   "metadata": {},
   "outputs": [
    {
     "name": "stdout",
     "output_type": "stream",
     "text": [
      "Hello, world!\n",
      "Damilola Emmanuel\n"
     ]
    }
   ],
   "source": [
    "# Welcome to this class\n",
    "\n",
    "\n",
    "print(\"Hello, world!\")\n",
    "print('Damilola Emmanuel')"
   ]
  },
  {
   "cell_type": "code",
   "execution_count": 2,
   "id": "bb3882e7",
   "metadata": {},
   "outputs": [],
   "source": [
    "# Inbuilt functions\n",
    "\n",
    "# help()\n",
    "\n",
    "# dir()\n",
    "\n",
    "# len()\n",
    "\n",
    "# sum()\n",
    "\n",
    "# input()\n",
    "\n",
    "# int()"
   ]
  },
  {
   "cell_type": "code",
   "execution_count": null,
   "id": "50da92f6",
   "metadata": {},
   "outputs": [],
   "source": []
  },
  {
   "cell_type": "markdown",
   "id": "2bd41bdf",
   "metadata": {},
   "source": [
    "## Basic Arithmetic\n",
    "The basic arithmetic operations for real numbers are addition, subtraction, multiplication, and division\n",
    "\n",
    "|Operation                |Symbol                          |Example                         |\n",
    "|----------------|-------------------------------|-----------------------------|\n",
    "|Addition\t|+\t|1 + 2 = 3            \n",
    "|Subtraction\t|-|\t5 - 4 = 1\n",
    "|Multiplication\t|*|\t2 * 4 = 8\n",
    "|Division\t|/|\t6 / 3 = 2\n",
    "Exponent|\t**\t|3 ** 2 = 9"
   ]
  },
  {
   "cell_type": "code",
   "execution_count": 3,
   "id": "8d86a076",
   "metadata": {},
   "outputs": [
    {
     "name": "stdout",
     "output_type": "stream",
     "text": [
      "4\n",
      "6\n"
     ]
    }
   ],
   "source": [
    "# Addition\n",
    "print(2 + 2)\n",
    "\n",
    "print(2 + 4)"
   ]
  },
  {
   "cell_type": "code",
   "execution_count": 4,
   "id": "889d5f43",
   "metadata": {},
   "outputs": [
    {
     "name": "stdout",
     "output_type": "stream",
     "text": [
      "1\n"
     ]
    }
   ],
   "source": [
    "# Subtraction\n",
    "\n",
    "print(6 - 5)\n"
   ]
  },
  {
   "cell_type": "code",
   "execution_count": 5,
   "id": "8bddc535",
   "metadata": {},
   "outputs": [
    {
     "data": {
      "text/plain": [
       "60"
      ]
     },
     "execution_count": 5,
     "metadata": {},
     "output_type": "execute_result"
    }
   ],
   "source": [
    "# Multiplication\n",
    "\n",
    "20 * 3"
   ]
  },
  {
   "cell_type": "code",
   "execution_count": 6,
   "id": "dc8e19d5",
   "metadata": {},
   "outputs": [
    {
     "data": {
      "text/plain": [
       "2.8"
      ]
     },
     "execution_count": 6,
     "metadata": {},
     "output_type": "execute_result"
    }
   ],
   "source": [
    "# Division\n",
    "14 / 5"
   ]
  },
  {
   "cell_type": "code",
   "execution_count": 7,
   "id": "1fe40827",
   "metadata": {},
   "outputs": [
    {
     "data": {
      "text/plain": [
       "2"
      ]
     },
     "execution_count": 7,
     "metadata": {},
     "output_type": "execute_result"
    }
   ],
   "source": [
    "# Floor Division\n",
    "\n",
    "14 // 5"
   ]
  },
  {
   "cell_type": "code",
   "execution_count": 8,
   "id": "1363c1cc",
   "metadata": {},
   "outputs": [
    {
     "data": {
      "text/plain": [
       "4"
      ]
     },
     "execution_count": 8,
     "metadata": {},
     "output_type": "execute_result"
    }
   ],
   "source": [
    "# Modulo - To get the reminder\n",
    "\n",
    "14 % 5"
   ]
  },
  {
   "cell_type": "code",
   "execution_count": 9,
   "id": "0664fb37",
   "metadata": {},
   "outputs": [
    {
     "data": {
      "text/plain": [
       "8"
      ]
     },
     "execution_count": 9,
     "metadata": {},
     "output_type": "execute_result"
    }
   ],
   "source": [
    "# Raised to Power\n",
    "\n",
    "2 ** 3"
   ]
  },
  {
   "cell_type": "code",
   "execution_count": 10,
   "id": "ec10574b",
   "metadata": {},
   "outputs": [
    {
     "name": "stdout",
     "output_type": "stream",
     "text": [
      "4.0\n"
     ]
    }
   ],
   "source": [
    "# Square-root\n",
    "\n",
    "print(16 ** 0.5)\n",
    "\n"
   ]
  },
  {
   "cell_type": "code",
   "execution_count": 11,
   "id": "c6850e65",
   "metadata": {},
   "outputs": [
    {
     "data": {
      "text/plain": [
       "16"
      ]
     },
     "execution_count": 11,
     "metadata": {},
     "output_type": "execute_result"
    }
   ],
   "source": [
    "25 - 9"
   ]
  },
  {
   "cell_type": "code",
   "execution_count": 12,
   "id": "82fcb196",
   "metadata": {},
   "outputs": [
    {
     "data": {
      "text/plain": [
       "5.0"
      ]
     },
     "execution_count": 12,
     "metadata": {},
     "output_type": "execute_result"
    }
   ],
   "source": [
    "# Order of Operation - BODMAS\n",
    "\n",
    "(16 + 9)  ** (1/2)"
   ]
  },
  {
   "cell_type": "markdown",
   "id": "4af8487a",
   "metadata": {},
   "source": [
    "## Variable Assignment\n",
    "\n",
    "Variables can store **data of different types** \n",
    "\n",
    "- Integer - 1,2,3,4\n",
    "- float \t- 4.5\n",
    "- String - 'alphabet' & 'text'\n",
    "- bool - True or False\n",
    "- list - [Mango, Orange, Banana, Pineapple, Mango]\n",
    "- dict - { Key: Value, Name: Damilola}\n",
    "- set - {Orange, Banana, Pineapple, Mango}\n",
    "- tuple - (Orange, Banana, Pineapple, Mango)"
   ]
  },
  {
   "cell_type": "code",
   "execution_count": 14,
   "id": "03980e94",
   "metadata": {},
   "outputs": [],
   "source": [
    "#Dont start with a number\n",
    "#Dont start with special characters\n",
    "#NO SPACE\n",
    "\n",
    "# Creating variables\n",
    "# Manipulating variables\n",
    "\n",
    "firstname = 'Damilola'\n",
    "\n",
    "surname = \"Emmanuel\"\n",
    "\n",
    "age = 25\n",
    "\n",
    "account_balance = 78900.16\n",
    "\n",
    "tax_rate = 5/100\n",
    "\n",
    "tax_amount = account_balance * tax_rate\n",
    "\n",
    "married = True , False"
   ]
  },
  {
   "cell_type": "code",
   "execution_count": null,
   "id": "97d2ad08",
   "metadata": {},
   "outputs": [],
   "source": []
  },
  {
   "cell_type": "code",
   "execution_count": 21,
   "id": "0aea4279",
   "metadata": {},
   "outputs": [
    {
     "name": "stdout",
     "output_type": "stream",
     "text": [
      "Damilola\n",
      "Emmanuel\n",
      "25\n",
      "78900.16\n",
      "0.05\n",
      "3945.0080000000003\n",
      "True\n"
     ]
    }
   ],
   "source": [
    "print(firstname)\n",
    "\n",
    "print(surname)\n",
    "\n",
    "print(age)\n",
    "\n",
    "print(account_balance)\n",
    "\n",
    "print(tax_rate)\n",
    "\n",
    "print(tax_amount)\n",
    "\n",
    "print(married)"
   ]
  },
  {
   "cell_type": "code",
   "execution_count": 22,
   "id": "e8cdd267",
   "metadata": {},
   "outputs": [],
   "source": [
    "tax_amount = account_balance * tax_rate"
   ]
  },
  {
   "cell_type": "code",
   "execution_count": 38,
   "id": "9da9029d",
   "metadata": {},
   "outputs": [
    {
     "data": {
      "text/plain": [
       "'DamilolaEmmanuel'"
      ]
     },
     "execution_count": 38,
     "metadata": {},
     "output_type": "execute_result"
    }
   ],
   "source": [
    "firstname + surname"
   ]
  },
  {
   "cell_type": "code",
   "execution_count": 37,
   "id": "cd62b1ca",
   "metadata": {},
   "outputs": [
    {
     "data": {
      "text/plain": [
       "'- -- -- -- -- -- -- -- -- -- -- -- -- -- -- -- -- -- -- -- -'"
      ]
     },
     "execution_count": 37,
     "metadata": {},
     "output_type": "execute_result"
    }
   ],
   "source": [
    "'- -' * 20"
   ]
  },
  {
   "cell_type": "code",
   "execution_count": 46,
   "id": "0046a5b9",
   "metadata": {},
   "outputs": [
    {
     "name": "stdout",
     "output_type": "stream",
     "text": [
      "How old are you? 32\n"
     ]
    }
   ],
   "source": [
    "firstname = input('Please enter your first name: ')\n",
    "\n",
    "surname = input('Please enter your last name: ')\n",
    "\n",
    "age = int(input('How old are you? '))\n",
    "\n",
    "account_balance = input('How much is in your account: ')\n",
    "\n",
    "tax_rate = input('What is your country tax rate policy: ')\n"
   ]
  },
  {
   "cell_type": "code",
   "execution_count": 60,
   "id": "dde48f49",
   "metadata": {},
   "outputs": [
    {
     "name": "stdout",
     "output_type": "stream",
     "text": [
      "First Name : Segun Last Name : Arinze Age : 32 balance : 300\n"
     ]
    }
   ],
   "source": [
    "print('First Name :', firstname,\n",
    "      'Last Name :', surname,\n",
    "      'Age :', age, \n",
    "      'balance :',account_balance)"
   ]
  },
  {
   "cell_type": "code",
   "execution_count": 59,
   "id": "bc790e65",
   "metadata": {},
   "outputs": [
    {
     "name": "stdout",
     "output_type": "stream",
     "text": [
      "First Name : Segun \n",
      "Last Name : Arinze \n",
      "Age : 32 \n",
      "balance : 300\n"
     ]
    }
   ],
   "source": [
    "print('First Name :', firstname, '\\n'\n",
    "      'Last Name :', surname, '\\n'\n",
    "      'Age :', age, '\\n'\n",
    "      'balance :',account_balance)"
   ]
  },
  {
   "cell_type": "code",
   "execution_count": 53,
   "id": "12758104",
   "metadata": {},
   "outputs": [
    {
     "data": {
      "text/plain": [
       "('Segun', 'Arinze', 32)"
      ]
     },
     "execution_count": 53,
     "metadata": {},
     "output_type": "execute_result"
    }
   ],
   "source": [
    "firstname, surname, age"
   ]
  },
  {
   "cell_type": "code",
   "execution_count": null,
   "id": "89172a73",
   "metadata": {},
   "outputs": [],
   "source": []
  },
  {
   "cell_type": "code",
   "execution_count": null,
   "id": "1de589c4",
   "metadata": {},
   "outputs": [],
   "source": []
  },
  {
   "cell_type": "code",
   "execution_count": null,
   "id": "2e291498",
   "metadata": {},
   "outputs": [],
   "source": []
  },
  {
   "cell_type": "markdown",
   "id": "4d949c96",
   "metadata": {},
   "source": [
    "## Debugging - reading errors"
   ]
  },
  {
   "cell_type": "code",
   "execution_count": 30,
   "id": "aa21c16f",
   "metadata": {},
   "outputs": [
    {
     "ename": "NameError",
     "evalue": "name 'tax' is not defined",
     "output_type": "error",
     "traceback": [
      "\u001b[1;31m---------------------------------------------------------------------------\u001b[0m",
      "\u001b[1;31mNameError\u001b[0m                                 Traceback (most recent call last)",
      "Input \u001b[1;32mIn [30]\u001b[0m, in \u001b[0;36m<cell line: 1>\u001b[1;34m()\u001b[0m\n\u001b[1;32m----> 1\u001b[0m \u001b[38;5;28mprint\u001b[39m(\u001b[43mtax\u001b[49m)\n",
      "\u001b[1;31mNameError\u001b[0m: name 'tax' is not defined"
     ]
    }
   ],
   "source": [
    "print(tax)"
   ]
  },
  {
   "cell_type": "code",
   "execution_count": 32,
   "id": "74577729",
   "metadata": {},
   "outputs": [
    {
     "ename": "TypeError",
     "evalue": "unsupported operand type(s) for /: 'str' and 'int'",
     "output_type": "error",
     "traceback": [
      "\u001b[1;31m---------------------------------------------------------------------------\u001b[0m",
      "\u001b[1;31mTypeError\u001b[0m                                 Traceback (most recent call last)",
      "Input \u001b[1;32mIn [32]\u001b[0m, in \u001b[0;36m<cell line: 1>\u001b[1;34m()\u001b[0m\n\u001b[1;32m----> 1\u001b[0m \u001b[38;5;28mprint\u001b[39m(\u001b[43mfirstname\u001b[49m\u001b[43m \u001b[49m\u001b[38;5;241;43m/\u001b[39;49m\u001b[43m \u001b[49m\u001b[38;5;241;43m2\u001b[39;49m)\n",
      "\u001b[1;31mTypeError\u001b[0m: unsupported operand type(s) for /: 'str' and 'int'"
     ]
    }
   ],
   "source": [
    "print(firstname / 2)"
   ]
  },
  {
   "cell_type": "code",
   "execution_count": 34,
   "id": "3cf415cc",
   "metadata": {},
   "outputs": [
    {
     "ename": "SyntaxError",
     "evalue": "unexpected EOF while parsing (<ipython-input-34-b6670e839c8c>, line 1)",
     "output_type": "error",
     "traceback": [
      "\u001b[1;36m  Input \u001b[1;32mIn [34]\u001b[1;36m\u001b[0m\n\u001b[1;33m    print(firstname + surname\u001b[0m\n\u001b[1;37m                             ^\u001b[0m\n\u001b[1;31mSyntaxError\u001b[0m\u001b[1;31m:\u001b[0m unexpected EOF while parsing\n"
     ]
    }
   ],
   "source": [
    "print(firstname + surname"
   ]
  },
  {
   "cell_type": "code",
   "execution_count": 65,
   "id": "d6dd6ebe",
   "metadata": {},
   "outputs": [
    {
     "ename": "ValueError",
     "evalue": "invalid literal for int() with base 10: 'ewrwer'",
     "output_type": "error",
     "traceback": [
      "\u001b[1;31m---------------------------------------------------------------------------\u001b[0m",
      "\u001b[1;31mValueError\u001b[0m                                Traceback (most recent call last)",
      "Input \u001b[1;32mIn [65]\u001b[0m, in \u001b[0;36m<cell line: 1>\u001b[1;34m()\u001b[0m\n\u001b[1;32m----> 1\u001b[0m \u001b[38;5;28;43mint\u001b[39;49m\u001b[43m(\u001b[49m\u001b[43mfirstname\u001b[49m\u001b[43m)\u001b[49m\n",
      "\u001b[1;31mValueError\u001b[0m: invalid literal for int() with base 10: 'ewrwer'"
     ]
    }
   ],
   "source": [
    "int(firstname)"
   ]
  },
  {
   "cell_type": "code",
   "execution_count": 1,
   "id": "13c67520",
   "metadata": {},
   "outputs": [
    {
     "ename": "IndentationError",
     "evalue": "expected an indented block (<ipython-input-1-feb43aa65c50>, line 2)",
     "output_type": "error",
     "traceback": [
      "\u001b[1;36m  Input \u001b[1;32mIn [1]\u001b[1;36m\u001b[0m\n\u001b[1;33m    org = 10Analytics\u001b[0m\n\u001b[1;37m    ^\u001b[0m\n\u001b[1;31mIndentationError\u001b[0m\u001b[1;31m:\u001b[0m expected an indented block\n"
     ]
    }
   ],
   "source": [
    "def indentation_error_example():\n",
    "org = 10Analytics"
   ]
  },
  {
   "cell_type": "markdown",
   "id": "afaf6b78",
   "metadata": {},
   "source": [
    "## Function\n",
    "A function is a **block of code designed to perform a specific task**. \n",
    "\n",
    "As you'll see, functions will let you do roughly the same calculation multiple times without duplicating any code.\n",
    "\n",
    "It contains **Head** and **Body**.\n",
    "\n"
   ]
  },
  {
   "cell_type": "code",
   "execution_count": null,
   "id": "4ea2e0d7",
   "metadata": {},
   "outputs": [],
   "source": [
    "def name_of_function(input_var):       # HEAD\n",
    "    output_var = input_var + 3      # BODY\n",
    "    return output_var            # OUTPUT which is optional\n",
    "    \n",
    "    \n",
    "\n",
    "    \n",
    "    \n",
    "\n",
    "# Functions with multiple arguments\n",
    "\n",
    "# Functions with no arguments"
   ]
  },
  {
   "cell_type": "code",
   "execution_count": 64,
   "id": "87bff59f",
   "metadata": {},
   "outputs": [
    {
     "name": "stdout",
     "output_type": "stream",
     "text": [
      "Enter a number3\n"
     ]
    },
    {
     "data": {
      "text/plain": [
       "'3'"
      ]
     },
     "execution_count": 64,
     "metadata": {},
     "output_type": "execute_result"
    }
   ],
   "source": [
    "# input('Enter a number' )\n",
    "\n",
    "# print('My gross salary is', grow_salary, 'and my take home is',net_salary)\n"
   ]
  },
  {
   "cell_type": "code",
   "execution_count": 84,
   "id": "86744919",
   "metadata": {},
   "outputs": [],
   "source": [
    "def salary_tax_calculator():                                          #HEAD\n",
    "\n",
    "    firstname = input('Please enter your first name: ')               #Body\n",
    "    # surname = input('Please enter your last name: ')\n",
    "    # age = int(input('How old are you? '))\n",
    "    salary = float(input('How much is your salary: '))\n",
    "    tax_rate = float(input('What is your country tax rate policy: '))\n",
    "\n",
    "    tax_amount = salary * tax_rate\n",
    "\n",
    "    grow_salary = salary\n",
    "    net_salary = salary - tax_amount\n",
    "\n",
    "\n",
    "    return print(f'\\n\\nName is {firstname} \\nMy gross salary is {grow_salary} and my take home is {net_salary}')   # OUTPUT\n",
    "\n"
   ]
  },
  {
   "cell_type": "code",
   "execution_count": 85,
   "id": "53f196f3",
   "metadata": {},
   "outputs": [
    {
     "name": "stdout",
     "output_type": "stream",
     "text": [
      "Please enter your first name: Damilola\n",
      "How much is your salary: 5000\n",
      "What is your country tax rate policy: 0.1\n",
      "\n",
      "\n",
      "Name is Damilola \n",
      "My gross salary is 5000.0 and my take home is 4500.0\n"
     ]
    }
   ],
   "source": [
    "salary_tax_calculator()"
   ]
  },
  {
   "cell_type": "code",
   "execution_count": 86,
   "id": "139c6fc2",
   "metadata": {},
   "outputs": [
    {
     "name": "stdout",
     "output_type": "stream",
     "text": [
      "Please enter your first name: Matthew\n",
      "How much is your salary: 86874\n",
      "What is your country tax rate policy: 0.05\n",
      "\n",
      "\n",
      "Name is Matthew \n",
      "My gross salary is 86874.0 and my take home is 82530.3\n"
     ]
    }
   ],
   "source": [
    "salary_tax_calculator()"
   ]
  },
  {
   "cell_type": "code",
   "execution_count": 92,
   "id": "5ad88007",
   "metadata": {},
   "outputs": [],
   "source": [
    "def salary_tax_calculator(firstname = 'Damilola', salary = 50000, tax_rate = 0.05 ):                                          #HEAD\n",
    "\n",
    "    firstname = firstname               #Body\n",
    "    salary = salary\n",
    "    tax_rate = tax_rate\n",
    "\n",
    "    tax_amount = salary * tax_rate\n",
    "    net_salary = salary - tax_amount\n",
    "\n",
    "\n",
    "    return firstname, salary, net_salary"
   ]
  },
  {
   "cell_type": "code",
   "execution_count": 93,
   "id": "dd6a2cf8",
   "metadata": {},
   "outputs": [
    {
     "data": {
      "text/plain": [
       "('Damilola', 50000, 47500.0)"
      ]
     },
     "execution_count": 93,
     "metadata": {},
     "output_type": "execute_result"
    }
   ],
   "source": [
    "salary_tax_calculator()"
   ]
  },
  {
   "cell_type": "code",
   "execution_count": 94,
   "id": "232ba11f",
   "metadata": {},
   "outputs": [
    {
     "data": {
      "text/plain": [
       "('Chinny', 40000, 20000.0)"
      ]
     },
     "execution_count": 94,
     "metadata": {},
     "output_type": "execute_result"
    }
   ],
   "source": [
    "salary_tax_calculator('Chinny',40000, 0.5)"
   ]
  },
  {
   "cell_type": "markdown",
   "id": "f5de6f90",
   "metadata": {},
   "source": [
    "Say you are helping a friend to calculate their weekly paycheck after taxes.\n",
    "\n",
    "- They're in a 8% tax bracket (in other words, 8% of their salary is taken for taxes, and they only take home 88%), and\n",
    "\n",
    "- They're paid monthly, at a rate of $27,500/month.\n",
    "\n",
    "- Create a calculator to be used for 2 - 6 months period"
   ]
  },
  {
   "cell_type": "code",
   "execution_count": 18,
   "id": "c5a7b621",
   "metadata": {},
   "outputs": [],
   "source": [
    "# Please attempt to answer the question above\n",
    "\n",
    "def weekly_paycheck():\n",
    "    fullname = input('Enter your full name: ')\n",
    "    number_of_month = int(input('Enter number of month salary between 2-6 months: '))\n",
    "    monthly_salary = int(input('what is your monthly salary?: '))\n",
    "    salary_for_numberofmonth = monthly_salary * number_of_month\n",
    "    tax = float(input('How much tax do you pay?: '))       #input tax amount\n",
    "    tax_rate = monthly_salary * tax\n",
    "    income_after_tax = monthly_salary - tax_rate\n",
    "    weekly_pay = income_after_tax / 4\n",
    "\n",
    "\n",
    "\n",
    "    return print(f'\\n\\Hi {fullname}, your monthly salary for {number_of_month} months is {salary_for_numberofmonth} and your weekly paycheck is {weekly_pay} ')\n",
    "\n",
    "    \n",
    "\n",
    "\n",
    "\n",
    "\n"
   ]
  },
  {
   "cell_type": "code",
   "execution_count": 19,
   "id": "287b42d0",
   "metadata": {},
   "outputs": [
    {
     "name": "stdout",
     "output_type": "stream",
     "text": [
      "Enter your full name: Chinny Akpa\n",
      "Enter number of month salary between 2-6 months: 3\n",
      "what is your monthly salary?: 27500\n",
      "How much tax do you pay?: 0.08\n",
      "\n",
      "\\Hi Chinny Akpa, your monthly salary for 3 months is 82500 and your weekly paycheck is 6325.0 \n"
     ]
    }
   ],
   "source": [
    "weekly_paycheck()"
   ]
  },
  {
   "cell_type": "code",
   "execution_count": null,
   "id": "5da716da",
   "metadata": {},
   "outputs": [],
   "source": []
  },
  {
   "cell_type": "code",
   "execution_count": 23,
   "id": "603b97c8",
   "metadata": {},
   "outputs": [
    {
     "name": "stdout",
     "output_type": "stream",
     "text": [
      "ChinnyAkpa\n"
     ]
    }
   ],
   "source": [
    "print ('ChinnyAkpa')"
   ]
  },
  {
   "cell_type": "raw",
   "id": "54e9823c",
   "metadata": {},
   "source": [
    "def currency():\n",
    "    naira = float(input('Amount in naira?: '))\n",
    "    exchange_rate = int(input('Enter Black market: '))\n",
    "    value_in_naira = naira * exchange_rate\n",
    "    \n",
    "    return print(f'\\n value in naira is {value_in_naira} ')\n"
   ]
  },
  {
   "cell_type": "code",
   "execution_count": 36,
   "id": "2f20f843",
   "metadata": {},
   "outputs": [
    {
     "name": "stdout",
     "output_type": "stream",
     "text": [
      "Amount in naira?: 200\n",
      "Enter Black market: 800\n",
      "\n",
      " value in naira is 160000.0 \n"
     ]
    }
   ],
   "source": [
    "currency()"
   ]
  },
  {
   "cell_type": "code",
   "execution_count": 38,
   "id": "66fc0ad5",
   "metadata": {},
   "outputs": [],
   "source": [
    "def summation(val1=3 , val=5): #give default values\n",
    " \n",
    "\n",
    "    total_val = val1 + val2\n",
    "\n",
    "    return total_val"
   ]
  },
  {
   "cell_type": "code",
   "execution_count": 39,
   "id": "16561582",
   "metadata": {},
   "outputs": [
    {
     "data": {
      "text/plain": [
       "8"
      ]
     },
     "execution_count": 39,
     "metadata": {},
     "output_type": "execute_result"
    }
   ],
   "source": [
    "summation()"
   ]
  },
  {
   "cell_type": "code",
   "execution_count": 41,
   "id": "7c2a435f",
   "metadata": {},
   "outputs": [],
   "source": [
    "#Data types\n",
    "\n",
    "no_of_child = 2"
   ]
  },
  {
   "cell_type": "code",
   "execution_count": 42,
   "id": "dc9802eb",
   "metadata": {},
   "outputs": [
    {
     "data": {
      "text/plain": [
       "int"
      ]
     },
     "execution_count": 42,
     "metadata": {},
     "output_type": "execute_result"
    }
   ],
   "source": [
    "#To get data type, do this\n",
    "\n",
    "type(no_of_child)"
   ]
  },
  {
   "cell_type": "code",
   "execution_count": null,
   "id": "af543c21",
   "metadata": {},
   "outputs": [],
   "source": [
    "dir(no_of_child)"
   ]
  },
  {
   "cell_type": "code",
   "execution_count": null,
   "id": "8d04c939",
   "metadata": {},
   "outputs": [],
   "source": [
    "help(no_of_child)"
   ]
  },
  {
   "cell_type": "code",
   "execution_count": null,
   "id": "4428431d",
   "metadata": {},
   "outputs": [],
   "source": [
    "salary_tax_calculator()"
   ]
  },
  {
   "cell_type": "code",
   "execution_count": 43,
   "id": "79b4e7d2",
   "metadata": {},
   "outputs": [
    {
     "data": {
      "text/plain": [
       "2"
      ]
     },
     "execution_count": 43,
     "metadata": {},
     "output_type": "execute_result"
    }
   ],
   "source": [
    "abs(-2)"
   ]
  },
  {
   "cell_type": "code",
   "execution_count": 44,
   "id": "ec9b01c4",
   "metadata": {},
   "outputs": [
    {
     "data": {
      "text/plain": [
       "2.0"
      ]
     },
     "execution_count": 44,
     "metadata": {},
     "output_type": "execute_result"
    }
   ],
   "source": [
    "float(no_of_child)"
   ]
  },
  {
   "cell_type": "code",
   "execution_count": null,
   "id": "113bb013",
   "metadata": {},
   "outputs": [],
   "source": [
    "help(float)"
   ]
  },
  {
   "cell_type": "code",
   "execution_count": 45,
   "id": "214f13df",
   "metadata": {},
   "outputs": [
    {
     "data": {
      "text/plain": [
       "1.23"
      ]
     },
     "execution_count": 45,
     "metadata": {},
     "output_type": "execute_result"
    }
   ],
   "source": [
    "#to round figures\n",
    "\n",
    "round(1.23345, 2)"
   ]
  },
  {
   "cell_type": "code",
   "execution_count": 49,
   "id": "7a41b9c5",
   "metadata": {},
   "outputs": [],
   "source": [
    "weight = 54.654"
   ]
  },
  {
   "cell_type": "code",
   "execution_count": 50,
   "id": "8f45c529",
   "metadata": {},
   "outputs": [
    {
     "data": {
      "text/plain": [
       "54.65"
      ]
     },
     "execution_count": 50,
     "metadata": {},
     "output_type": "execute_result"
    }
   ],
   "source": [
    "round(weight,2)"
   ]
  },
  {
   "cell_type": "code",
   "execution_count": 51,
   "id": "4e2dc531",
   "metadata": {},
   "outputs": [
    {
     "data": {
      "text/plain": [
       "[]"
      ]
     },
     "execution_count": 51,
     "metadata": {},
     "output_type": "execute_result"
    }
   ],
   "source": [
    "#list - an order sequence of items. There is an inbuilt function for list\n",
    "\n",
    "list()"
   ]
  },
  {
   "cell_type": "code",
   "execution_count": 86,
   "id": "fab3c27f",
   "metadata": {},
   "outputs": [],
   "source": [
    "class_list = [2,3,56,1,'chinny',5,7,15,True]"
   ]
  },
  {
   "cell_type": "code",
   "execution_count": null,
   "id": "0c0effd0",
   "metadata": {},
   "outputs": [],
   "source": []
  },
  {
   "cell_type": "code",
   "execution_count": null,
   "id": "8c57e49b",
   "metadata": {},
   "outputs": [],
   "source": [
    "#string a name, sentence"
   ]
  },
  {
   "cell_type": "code",
   "execution_count": 68,
   "id": "b8ddc299",
   "metadata": {},
   "outputs": [
    {
     "data": {
      "text/plain": [
       "''"
      ]
     },
     "execution_count": 68,
     "metadata": {},
     "output_type": "execute_result"
    }
   ],
   "source": [
    "str()"
   ]
  },
  {
   "cell_type": "code",
   "execution_count": 69,
   "id": "9b4445eb",
   "metadata": {},
   "outputs": [],
   "source": [
    "name = 'chinny'"
   ]
  },
  {
   "cell_type": "code",
   "execution_count": 70,
   "id": "150efb33",
   "metadata": {},
   "outputs": [
    {
     "data": {
      "text/plain": [
       "'Chinny'"
      ]
     },
     "execution_count": 70,
     "metadata": {},
     "output_type": "execute_result"
    }
   ],
   "source": [
    "name.capitalize()"
   ]
  },
  {
   "cell_type": "code",
   "execution_count": 71,
   "id": "bfcdfbd6",
   "metadata": {},
   "outputs": [
    {
     "data": {
      "text/plain": [
       "'CHINNY'"
      ]
     },
     "execution_count": 71,
     "metadata": {},
     "output_type": "execute_result"
    }
   ],
   "source": [
    "name.upper()"
   ]
  },
  {
   "cell_type": "code",
   "execution_count": 72,
   "id": "ccf16408",
   "metadata": {},
   "outputs": [
    {
     "data": {
      "text/plain": [
       "'chinny'"
      ]
     },
     "execution_count": 72,
     "metadata": {},
     "output_type": "execute_result"
    }
   ],
   "source": [
    "name.lower()"
   ]
  },
  {
   "cell_type": "code",
   "execution_count": null,
   "id": "808e259b",
   "metadata": {},
   "outputs": [],
   "source": []
  },
  {
   "cell_type": "code",
   "execution_count": 73,
   "id": "82941fd2",
   "metadata": {},
   "outputs": [
    {
     "data": {
      "text/plain": [
       "['chinny']"
      ]
     },
     "execution_count": 73,
     "metadata": {},
     "output_type": "execute_result"
    }
   ],
   "source": [
    "name.split()"
   ]
  },
  {
   "cell_type": "code",
   "execution_count": 74,
   "id": "af1ae394",
   "metadata": {},
   "outputs": [],
   "source": [
    "comment = 'the sky is blue'"
   ]
  },
  {
   "cell_type": "code",
   "execution_count": 76,
   "id": "9a4e540c",
   "metadata": {},
   "outputs": [
    {
     "data": {
      "text/plain": [
       "['the', 'sky', 'is', 'blue']"
      ]
     },
     "execution_count": 76,
     "metadata": {},
     "output_type": "execute_result"
    }
   ],
   "source": [
    "comment.split()"
   ]
  },
  {
   "cell_type": "code",
   "execution_count": null,
   "id": "ba5df318",
   "metadata": {},
   "outputs": [],
   "source": [
    "#dir(str) + play"
   ]
  },
  {
   "cell_type": "code",
   "execution_count": 92,
   "id": "43ab4b91",
   "metadata": {},
   "outputs": [
    {
     "name": "stdout",
     "output_type": "stream",
     "text": [
      "the sky is blue \n"
     ]
    }
   ],
   "source": [
    "#print format\n",
    "\n",
    "print(f'the sky is blue ')"
   ]
  },
  {
   "cell_type": "code",
   "execution_count": 93,
   "id": "34b63144",
   "metadata": {},
   "outputs": [
    {
     "name": "stdout",
     "output_type": "stream",
     "text": [
      "the sky is blue, my name is chinny\n"
     ]
    }
   ],
   "source": [
    "print(f'the sky is blue, my name is {name}')"
   ]
  },
  {
   "cell_type": "code",
   "execution_count": 95,
   "id": "ed6f8957",
   "metadata": {},
   "outputs": [],
   "source": [
    "test = comment.split(' ')"
   ]
  },
  {
   "cell_type": "code",
   "execution_count": 96,
   "id": "4b41e985",
   "metadata": {},
   "outputs": [
    {
     "data": {
      "text/plain": [
       "['the', 'sky', 'is', 'blue']"
      ]
     },
     "execution_count": 96,
     "metadata": {},
     "output_type": "execute_result"
    }
   ],
   "source": [
    "test"
   ]
  },
  {
   "cell_type": "code",
   "execution_count": 97,
   "id": "9d28b4ea",
   "metadata": {},
   "outputs": [
    {
     "data": {
      "text/plain": [
       "'the--sky--is--blue'"
      ]
     },
     "execution_count": 97,
     "metadata": {},
     "output_type": "execute_result"
    }
   ],
   "source": [
    "\"--\".join(test)"
   ]
  },
  {
   "cell_type": "code",
   "execution_count": 99,
   "id": "f2e9dd4f",
   "metadata": {},
   "outputs": [
    {
     "ename": "IndentationError",
     "evalue": "unexpected indent (573383430.py, line 4)",
     "output_type": "error",
     "traceback": [
      "\u001b[1;36m  Input \u001b[1;32mIn [99]\u001b[1;36m\u001b[0m\n\u001b[1;33m    0  1  2   3  4  5\u001b[0m\n\u001b[1;37m    ^\u001b[0m\n\u001b[1;31mIndentationError\u001b[0m\u001b[1;31m:\u001b[0m unexpected indent\n"
     ]
    }
   ],
   "source": [
    "#Index and Slicing\n"
   ]
  },
  {
   "cell_type": "code",
   "execution_count": 100,
   "id": "107fc10c",
   "metadata": {},
   "outputs": [],
   "source": [
    "test = comment.split(' ')"
   ]
  },
  {
   "cell_type": "code",
   "execution_count": 102,
   "id": "647f8478",
   "metadata": {},
   "outputs": [
    {
     "data": {
      "text/plain": [
       "['the', 'sky', 'is', 'blue']"
      ]
     },
     "execution_count": 102,
     "metadata": {},
     "output_type": "execute_result"
    }
   ],
   "source": [
    "test"
   ]
  },
  {
   "cell_type": "code",
   "execution_count": 103,
   "id": "b4ba9cd7",
   "metadata": {},
   "outputs": [
    {
     "data": {
      "text/plain": [
       "'sky'"
      ]
     },
     "execution_count": 103,
     "metadata": {},
     "output_type": "execute_result"
    }
   ],
   "source": [
    "test[1]"
   ]
  },
  {
   "cell_type": "code",
   "execution_count": 106,
   "id": "2be43a6a",
   "metadata": {},
   "outputs": [
    {
     "data": {
      "text/plain": [
       "('blue', 'sky')"
      ]
     },
     "execution_count": 106,
     "metadata": {},
     "output_type": "execute_result"
    }
   ],
   "source": [
    "test[3], test[1]"
   ]
  },
  {
   "cell_type": "code",
   "execution_count": 107,
   "id": "a04238b2",
   "metadata": {},
   "outputs": [
    {
     "data": {
      "text/plain": [
       "['sky', 'is']"
      ]
     },
     "execution_count": 107,
     "metadata": {},
     "output_type": "execute_result"
    }
   ],
   "source": [
    "#slicing\n",
    "\n",
    "test[1:3]"
   ]
  },
  {
   "cell_type": "code",
   "execution_count": 109,
   "id": "05379151",
   "metadata": {},
   "outputs": [
    {
     "data": {
      "text/plain": [
       "['is', 'blue']"
      ]
     },
     "execution_count": 109,
     "metadata": {},
     "output_type": "execute_result"
    }
   ],
   "source": [
    "test[-2:]"
   ]
  },
  {
   "cell_type": "code",
   "execution_count": 110,
   "id": "1b504df0",
   "metadata": {},
   "outputs": [
    {
     "data": {
      "text/plain": [
       "['the', 'sky', 'is', 'blue']"
      ]
     },
     "execution_count": 110,
     "metadata": {},
     "output_type": "execute_result"
    }
   ],
   "source": [
    "test"
   ]
  },
  {
   "cell_type": "code",
   "execution_count": 111,
   "id": "620ee02f",
   "metadata": {},
   "outputs": [],
   "source": [
    "sentence = 'slicing is used to obtain a sequence of elements'"
   ]
  },
  {
   "cell_type": "code",
   "execution_count": 113,
   "id": "013a7674",
   "metadata": {},
   "outputs": [],
   "source": [
    "sentence = sentence.split()"
   ]
  },
  {
   "cell_type": "code",
   "execution_count": 114,
   "id": "ff004359",
   "metadata": {},
   "outputs": [],
   "source": [
    "test.extend(sentence)"
   ]
  },
  {
   "cell_type": "code",
   "execution_count": 119,
   "id": "ff8976a6",
   "metadata": {},
   "outputs": [
    {
     "data": {
      "text/plain": [
       "['sky', 'blue', 'is']"
      ]
     },
     "execution_count": 119,
     "metadata": {},
     "output_type": "execute_result"
    }
   ],
   "source": [
    "test[1 : -6 : 2]"
   ]
  },
  {
   "cell_type": "code",
   "execution_count": 120,
   "id": "aba41111",
   "metadata": {},
   "outputs": [
    {
     "data": {
      "text/plain": [
       "{}"
      ]
     },
     "execution_count": 120,
     "metadata": {},
     "output_type": "execute_result"
    }
   ],
   "source": [
    "#dictionaries\n",
    "\n",
    "dict()"
   ]
  },
  {
   "cell_type": "code",
   "execution_count": 122,
   "id": "8005fb59",
   "metadata": {},
   "outputs": [],
   "source": [
    "bio = {'name': 'Chinny', 'age': 22, 'gender': 'female' }"
   ]
  },
  {
   "cell_type": "code",
   "execution_count": 123,
   "id": "9629166e",
   "metadata": {},
   "outputs": [
    {
     "data": {
      "text/plain": [
       "{'name': 'Chinny', 'age': 22, 'gender': 'female'}"
      ]
     },
     "execution_count": 123,
     "metadata": {},
     "output_type": "execute_result"
    }
   ],
   "source": [
    "bio"
   ]
  },
  {
   "cell_type": "code",
   "execution_count": 124,
   "id": "722bd591",
   "metadata": {},
   "outputs": [
    {
     "data": {
      "text/plain": [
       "('Chinny', 22)"
      ]
     },
     "execution_count": 124,
     "metadata": {},
     "output_type": "execute_result"
    }
   ],
   "source": [
    "bio['name'] , bio['age']"
   ]
  },
  {
   "cell_type": "code",
   "execution_count": 125,
   "id": "627c79e1",
   "metadata": {},
   "outputs": [
    {
     "data": {
      "text/plain": [
       "dict_items([('name', 'Chinny'), ('age', 22), ('gender', 'female')])"
      ]
     },
     "execution_count": 125,
     "metadata": {},
     "output_type": "execute_result"
    }
   ],
   "source": [
    "bio.items()"
   ]
  },
  {
   "cell_type": "code",
   "execution_count": 126,
   "id": "bb256b9d",
   "metadata": {},
   "outputs": [
    {
     "data": {
      "text/plain": [
       "()"
      ]
     },
     "execution_count": 126,
     "metadata": {},
     "output_type": "execute_result"
    }
   ],
   "source": [
    "#tuple\n",
    "\n",
    "\n",
    "tuple()"
   ]
  },
  {
   "cell_type": "code",
   "execution_count": 127,
   "id": "2def5b70",
   "metadata": {},
   "outputs": [],
   "source": [
    "test = ()"
   ]
  },
  {
   "cell_type": "code",
   "execution_count": 128,
   "id": "b8973c05",
   "metadata": {},
   "outputs": [
    {
     "data": {
      "text/plain": [
       "tuple"
      ]
     },
     "execution_count": 128,
     "metadata": {},
     "output_type": "execute_result"
    }
   ],
   "source": [
    "type(test)"
   ]
  },
  {
   "cell_type": "code",
   "execution_count": 129,
   "id": "11841a19",
   "metadata": {},
   "outputs": [
    {
     "data": {
      "text/plain": [
       "set()"
      ]
     },
     "execution_count": 129,
     "metadata": {},
     "output_type": "execute_result"
    }
   ],
   "source": [
    "#set\n",
    "\n",
    "set()"
   ]
  },
  {
   "cell_type": "code",
   "execution_count": 130,
   "id": "9e51c24f",
   "metadata": {},
   "outputs": [],
   "source": [
    "test = {}"
   ]
  },
  {
   "cell_type": "code",
   "execution_count": 131,
   "id": "21b530ed",
   "metadata": {},
   "outputs": [
    {
     "data": {
      "text/plain": [
       "dict"
      ]
     },
     "execution_count": 131,
     "metadata": {},
     "output_type": "execute_result"
    }
   ],
   "source": [
    "type(test)"
   ]
  },
  {
   "cell_type": "code",
   "execution_count": 132,
   "id": "22975612",
   "metadata": {},
   "outputs": [],
   "source": [
    "fruits = ['mango', 'rice', 'mango', 'rice']"
   ]
  },
  {
   "cell_type": "code",
   "execution_count": 133,
   "id": "eb364db1",
   "metadata": {},
   "outputs": [
    {
     "data": {
      "text/plain": [
       "{'mango', 'rice'}"
      ]
     },
     "execution_count": 133,
     "metadata": {},
     "output_type": "execute_result"
    }
   ],
   "source": [
    "set(fruits)"
   ]
  },
  {
   "cell_type": "code",
   "execution_count": 135,
   "id": "a5878ebb",
   "metadata": {},
   "outputs": [
    {
     "data": {
      "text/plain": [
       "set"
      ]
     },
     "execution_count": 135,
     "metadata": {},
     "output_type": "execute_result"
    }
   ],
   "source": [
    "test2 = {'mango', 'rice', 'mango', 'rice'}\n",
    "\n",
    "type(test2)"
   ]
  },
  {
   "cell_type": "code",
   "execution_count": null,
   "id": "659442d4",
   "metadata": {},
   "outputs": [],
   "source": []
  }
 ],
 "metadata": {
  "kernelspec": {
   "display_name": "Python 3 (ipykernel)",
   "language": "python",
   "name": "python3"
  },
  "language_info": {
   "codemirror_mode": {
    "name": "ipython",
    "version": 3
   },
   "file_extension": ".py",
   "mimetype": "text/x-python",
   "name": "python",
   "nbconvert_exporter": "python",
   "pygments_lexer": "ipython3",
   "version": "3.9.12"
  }
 },
 "nbformat": 4,
 "nbformat_minor": 5
}
